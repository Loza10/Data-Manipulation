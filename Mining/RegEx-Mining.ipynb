{
 "cells": [
  {
   "cell_type": "code",
   "execution_count": 1,
   "metadata": {
    "deletable": false,
    "editable": false,
    "nbgrader": {
     "grade": false,
     "locked": true,
     "solution": false
    },
    "tags": [
     "global_imports"
    ]
   },
   "outputs": [
    {
     "name": "stdout",
     "output_type": "stream",
     "text": [
      "'yelp.htm' is ready!\n"
     ]
    }
   ],
   "source": [
    "### Global Imports\n",
    "\n",
    "# Use this cell to import anything common, e.g. numpy, pandas, sqlite3\n",
    "# Use this cell to bring in the starter data\n",
    "import hashlib\n",
    "\n",
    "with open('resource/asnlib/publicdata/yelp.htm', 'r', encoding='utf-8') as f:\n",
    "    yelp_html = f.read().encode(encoding='utf-8')\n",
    "    checksum = hashlib.md5(yelp_html).hexdigest()\n",
    "    assert checksum == \"4a74a0ee9cefee773e76a22a52d45a8e\", \"Downloaded file has incorrect checksum!\"\n",
    "    \n",
    "print(\"'yelp.htm' is ready!\")"
   ]
  },
  {
   "cell_type": "code",
   "execution_count": 2,
   "metadata": {},
   "outputs": [
    {
     "name": "stdout",
     "output_type": "stream",
     "text": [
      "*** type(yelp_html) == <class 'str'> ***\n",
      "*** Contents (first 1000 characters) ***\n",
      "<!DOCTYPE html>\n",
      "<!-- saved from url=(0079)https://www.yelp.com/search?find_desc=fried+chicken&find_loc=Atlanta%2C+GA&ns=1 -->\n",
      "<html xmlns:fb=\"http://www.facebook.com/2008/fbml\" class=\"js gr__yelp_com\" lang=\"en\"><!--<![endif]--><head data-component-bound=\"true\"><meta http-equiv=\"Content-Type\" content=\"text/html; charset=UTF-8\"><link type=\"text/css\" rel=\"stylesheet\" href=\"./Best Fried chicken in Atlanta, GA - Yelp_files/css\"><style type=\"text/css\">.gm-style .gm-style-cc span,.gm-style .gm-style-cc a,.gm-style .gm-style-mtc div{font-size:10px}\n",
      "</style><style type=\"text/css\">@media print {  .gm-style .gmnoprint, .gmnoprint {    display:none  }}@media screen {  .gm-style .gmnoscreen, .gmnoscreen {    display:none  }}</style><style type=\"text/css\">.gm-style-pbc{transition:opacity ease-in-out;background-color:rgba(0,0,0,0.45);text-align:center}.gm-style-pbt{font-size:22px;color:white;font-family:Roboto,Arial,sans-serif;position:relative;margin:0;top:50%;-webkit-transform:translateY(-50%);-ms- ...\n"
     ]
    }
   ],
   "source": [
    "with open('resource/asnlib/publicdata/yelp.htm', 'r', encoding='utf-8') as yelp_file:\n",
    "    yelp_html = yelp_file.read()\n",
    "    \n",
    "# Print first few hundred characters of this string:\n",
    "print(\"*** type(yelp_html) == {} ***\".format(type(yelp_html)))\n",
    "n = 1000\n",
    "print(\"*** Contents (first {} characters) ***\\n{} ...\".format(n, yelp_html[:n]))"
   ]
  },
  {
   "cell_type": "code",
   "execution_count": 3,
   "metadata": {
    "collapsed": true,
    "deletable": false,
    "editable": false,
    "nbgrader": {
     "grade": false,
     "locked": true,
     "solution": false
    },
    "tags": [
     "demo_data"
    ]
   },
   "outputs": [],
   "source": [
    "### Define demo inputs\n",
    "demo_str_ex0 = yelp_html"
   ]
  },
  {
   "cell_type": "code",
   "execution_count": 126,
   "metadata": {
    "tags": [
     "exercise_solution"
    ]
   },
   "outputs": [
    {
     "data": {
      "text/plain": [
       "[{'name': 'Gus’s World Famous Fried Chicken',\n",
       "  'stars': '4.0',\n",
       "  'numrevs': 549,\n",
       "  'price': '$$'},\n",
       " {'name': 'South City Kitchen - Midtown',\n",
       "  'stars': '4.5',\n",
       "  'numrevs': 1777,\n",
       "  'price': '$$'},\n",
       " {'name': 'Mary Mac’s Tea Room',\n",
       "  'stars': '4.0',\n",
       "  'numrevs': 2241,\n",
       "  'price': '$$'},\n",
       " {'name': 'Busy Bee Cafe', 'stars': '4.0', 'numrevs': 481, 'price': '$$'},\n",
       " {'name': 'Richards’ Southern Fried',\n",
       "  'stars': '4.0',\n",
       "  'numrevs': 108,\n",
       "  'price': '$$'},\n",
       " {'name': 'Greens &amp; Gravy', 'stars': '3.5', 'numrevs': 93, 'price': '$$'},\n",
       " {'name': 'Colonnade Restaurant',\n",
       "  'stars': '4.0',\n",
       "  'numrevs': 350,\n",
       "  'price': '$$'},\n",
       " {'name': 'South City Kitchen Buckhead',\n",
       "  'stars': '4.5',\n",
       "  'numrevs': 248,\n",
       "  'price': '$$'},\n",
       " {'name': 'Poor Calvin’s', 'stars': '4.5', 'numrevs': 1558, 'price': '$$'},\n",
       " {'name': 'Rock’s Chicken &amp; Fries',\n",
       "  'stars': '4.0',\n",
       "  'numrevs': 67,\n",
       "  'price': '$'}]"
      ]
     },
     "execution_count": 126,
     "metadata": {},
     "output_type": "execute_result"
    }
   ],
   "source": [
    "### Exercise 0 solution\n",
    "import re\n",
    "def extract_ranking(yelp_html):\n",
    "    \n",
    "    #print(yelp_html)\n",
    "    \n",
    "    all_matches = re.findall(r'data-analytics-label=\"biz-name\"(.*?\\$+)\\s*', yelp_html, re.DOTALL)[2:12]\n",
    "    \n",
    "    star_match = [re.search(r\"[\\d].[\\d]* star rating\", x).group().strip().replace(\" star rating\", \"\") for x in all_matches]\n",
    "    review_match = [re.search(r\"(\\d+ reviews)\", x).group().replace(\" reviews\", \"\") for x in all_matches]\n",
    "    price_match = [re.search(r\"\\$+\", x).group() for x in all_matches]\n",
    "    name_match = [re.search(r\"<span>(.*?)</span>\", x).group().replace(\"<span>\", \"\").replace(\"</span>\", \"\") for x in all_matches]\n",
    "    \n",
    "    final_list = []\n",
    "    for x in range(len(star_match)):\n",
    "        temp = {}\n",
    "        temp['name'] = name_match[x]\n",
    "        temp['stars'] = star_match[x]\n",
    "        temp['numrevs'] = int(review_match[x])\n",
    "        temp['price'] = price_match[x]\n",
    "        final_list.append(temp)\n",
    "    return final_list\n",
    "    \n",
    "    \n",
    "### demo function call\n",
    "extract_ranking(demo_str_ex0)"
   ]
  }
 ],
 "metadata": {
  "interpreter": {
   "hash": "f2b38b6e01547e8f771d473ea2b8718fd0728eea782e4c924ed8783f739d4a6c"
  },
  "kernelspec": {
   "display_name": "Python 3.8",
   "language": "python",
   "name": "python38"
  },
  "language_info": {
   "codemirror_mode": {
    "name": "ipython",
    "version": 3
   },
   "file_extension": ".py",
   "mimetype": "text/x-python",
   "name": "python",
   "nbconvert_exporter": "python",
   "pygments_lexer": "ipython3",
   "version": "3.8.7"
  }
 },
 "nbformat": 4,
 "nbformat_minor": 5
}
