{
 "cells": [
  {
   "cell_type": "code",
   "execution_count": 4,
   "metadata": {
    "deletable": false,
    "editable": false,
    "nbgrader": {
     "grade": false,
     "locked": true,
     "solution": false
    }
   },
   "outputs": [
    {
     "name": "stdout",
     "output_type": "stream",
     "text": [
      "310.0\n",
      "616.0\n"
     ]
    }
   ],
   "source": [
    "def log10_arg2_take2(x):\n",
    "    from math import log10\n",
    "    return 2 * log10(x)\n",
    "\n",
    "print(log10_arg2_take2(1e155)) # Should work!\n",
    "print(log10_arg2_take2(1e308)) # This one, too, even though 10^(308) is close the max possible float"
   ]
  },
  {
   "cell_type": "code",
   "execution_count": 5,
   "metadata": {},
   "outputs": [
    {
     "name": "stdout",
     "output_type": "stream",
     "text": [
      "`z_array`:\n",
      "\n",
      " [1. 2. 3.] \n",
      "\n",
      "==> shape: (3,)\n",
      "\n",
      "\n",
      "`z_colvec`:\n",
      "\n",
      " [[1.]\n",
      " [2.]\n",
      " [3.]] \n",
      "\n",
      "==> shape: (3, 1)\n"
     ]
    }
   ],
   "source": [
    "import numpy as np\n",
    "\n",
    "# By default, Numpy vectors constructed from a list are 1-D\n",
    "# and have neither a row nor a column orientation.\n",
    "z_array = np.array([1.0, 2.0, 3.0])\n",
    "\n",
    "# By contrast, we want you to ensure your vectors are\n",
    "# column vectors.\n",
    "z_colvec = np.reshape(z_array, (len(z_array), 1))\n",
    "\n",
    "print(\"`z_array`:\\n\\n\", z_array, \"\\n\\n==> shape:\", z_array.shape)\n",
    "print(\"\\n\")\n",
    "print(\"`z_colvec`:\\n\\n\", z_colvec, \"\\n\\n==> shape:\", z_colvec.shape)"
   ]
  },
  {
   "cell_type": "code",
   "execution_count": 6,
   "metadata": {
    "deletable": false,
    "editable": false,
    "nbgrader": {
     "grade": false,
     "grade_id": "cell-2b1c86b5bcd7388d",
     "locked": true,
     "schema_version": 1,
     "solution": false
    }
   },
   "outputs": [
    {
     "name": "stderr",
     "output_type": "stream",
     "text": [
      "Matplotlib is building the font cache; this may take a moment.\n"
     ]
    }
   ],
   "source": [
    "# Data and computation\n",
    "import numpy as np\n",
    "import scipy as sp\n",
    "import scipy.linalg\n",
    "import pandas as pd\n",
    "\n",
    "# Timing\n",
    "from cse6040bench import benchit\n",
    "\n",
    "# Viz\n",
    "from IPython.display import display, Math\n",
    "from matplotlib.pyplot import figure, subplot, xlim, ylim\n",
    "from matplotlib.pyplot import scatter, axis, xlabel, ylabel, title, plot\n",
    "%matplotlib inline\n",
    "\n",
    "# Some functions we'll use later to display results\n",
    "def show_cond_fancy(x, name, opt=''):\n",
    "    \"\"\"Display a condition number in 'fancy' format (using LaTeX).\"\"\"\n",
    "    def sci_to_latex(x, fmt='{:.2e}'):\n",
    "        s_raw = fmt.format(x)\n",
    "        s, e = s_raw.split('e')\n",
    "        return s + r'\\times 10^{{{}}}'.format(int(e))\n",
    "    from IPython.display import Math\n",
    "    x_s = sci_to_latex(x)\n",
    "    display(Math(r'\\kappa({}){} \\approx {}'.format(name, opt, x_s)))\n",
    "    \n",
    "def show_2vecs_tibble(x, y, xname='x', yname='y', error=False):\n",
    "    \"\"\"Display two column vectors side-by-side in a tibble.\"\"\"\n",
    "    assert type(x) is np.ndarray and x.ndim >= 2 and x.shape[1] == 1\n",
    "    assert type(y) is np.ndarray and y.ndim >= 2 and y.shape[1] == 1\n",
    "    assert x.shape == y.shape\n",
    "    x_df = pd.DataFrame(x, columns=[xname])\n",
    "    y_df = pd.DataFrame(y, columns=[yname])\n",
    "    df = pd.concat([x_df, y_df], axis=1)\n",
    "    if error:\n",
    "        df['error'] = x - y\n",
    "    display(df)\n",
    "    \n",
    "# Display (X, y) problem as a tibble\n",
    "def make_data_tibble(X, y=None):\n",
    "    df = pd.DataFrame(X, columns=['x_{}'.format(i) for i in range(X.shape[1])])\n",
    "    if y is not None:\n",
    "        y_df = pd.DataFrame(y, columns=['y'])\n",
    "        df = pd.concat([y_df, df], axis=1)\n",
    "    return df\n",
    "    \n",
    "# From: https://stackoverflow.com/questions/17129290/numpy-2d-and-1d-array-to-latex-bmatrix\n",
    "def nparray_to_bmatrix(a):\n",
    "    \"\"\"Returns a LaTeX bmatrix\"\"\"\n",
    "    assert len(a.shape) <= 2, 'bmatrix can at most display two dimensions'\n",
    "    lines = str(a).replace('[', '').replace(']', '').splitlines()\n",
    "    rv = [r'\\begin{bmatrix}']\n",
    "    rv += ['  ' + ' & '.join(l.split()) + r'\\\\' for l in lines]\n",
    "    rv +=  [r'\\end{bmatrix}']\n",
    "    return '\\n'.join(rv)\n",
    "\n",
    "# Stash this function for later:\n",
    "SAVE_LSTSQ = np.linalg.lstsq # You may ignore this line, which some test cells will use"
   ]
  },
  {
   "cell_type": "code",
   "execution_count": 7,
   "metadata": {
    "deletable": false,
    "editable": false,
    "nbgrader": {
     "grade": false,
     "locked": true,
     "solution": false
    }
   },
   "outputs": [
    {
     "name": "stdout",
     "output_type": "stream",
     "text": [
      "Sample generated problem:\n"
     ]
    },
    {
     "data": {
      "text/latex": [
       "$\\displaystyle X = \\begin{bmatrix}\n",
       "  1. & 0. & 0.\\\\\n",
       "  1. & 1. & 1.\\\\\n",
       "  1. & 2. & 4.\\\\\n",
       "  1. & 3. & 9.\\\\\n",
       "  1. & 4. & 16.\\\\\n",
       "  1. & 5. & 25.\\\\\n",
       "  1. & 6. & 36.\\\\\n",
       "  1. & 7. & 49.\\\\\n",
       "  1. & 8. & 64.\\\\\n",
       "  1. & 9. & 81.\\\\\n",
       "\\end{bmatrix}, \\quad y = \\begin{bmatrix}\n",
       "  1.\\\\\n",
       "  3.\\\\\n",
       "  7.\\\\\n",
       "  13.\\\\\n",
       "  21.\\\\\n",
       "  31.\\\\\n",
       "  43.\\\\\n",
       "  57.\\\\\n",
       "  73.\\\\\n",
       "  91.\\\\\n",
       "\\end{bmatrix} \\quad \\implies \\quad \\theta^* = \\begin{bmatrix}\n",
       "  1.\\\\\n",
       "  1.\\\\\n",
       "  1.\\\\\n",
       "\\end{bmatrix}$"
      ],
      "text/plain": [
       "<IPython.core.display.Math object>"
      ]
     },
     "metadata": {},
     "output_type": "display_data"
    }
   ],
   "source": [
    "def gen_problem(m, n):\n",
    "    from numpy import arange, tile, cumprod, insert, ones\n",
    "    # 1 + x + x^2 + ... + x^n, x = 0:m\n",
    "    X = np.empty((m, n+1))\n",
    "    x_col = arange(m).reshape((m, 1)) # 0, 1, 2, ..., m-1\n",
    "    X[:, 0] = 1.0\n",
    "    X[:, 1:] = tile(x_col, reps=(1, n))\n",
    "    X[:, 1:] = cumprod(X[:, 1:], axis=1)\n",
    "    theta = ones((n+1, 1))\n",
    "    y = np.sum(X, axis=1).reshape((m, 1))\n",
    "    return X, y, theta\n",
    "\n",
    "print(\"Sample generated problem:\")\n",
    "m, n = 10, 2\n",
    "X, y, theta_true = gen_problem(m, n)\n",
    "\n",
    "display(Math(r'X = {}, \\quad y = {} \\quad \\implies \\quad \\theta^* = {}'.format(nparray_to_bmatrix(X),\n",
    "                                                                               nparray_to_bmatrix(y),\n",
    "                                                                               nparray_to_bmatrix(theta_true))))"
   ]
  },
  {
   "cell_type": "code",
   "execution_count": 18,
   "metadata": {
    "nbgrader": {
     "grade": false,
     "grade_id": "calc_residual_norm",
     "locked": false,
     "schema_version": 1,
     "solution": true
    }
   },
   "outputs": [
    {
     "name": "stdout",
     "output_type": "stream",
     "text": [
      "\n",
      "The squared residual norm: 3.513658552879787e-14\n"
     ]
    }
   ],
   "source": [
    "def calc_residual_norm(X, y, theta):\n",
    "    residual = X.dot(theta) - y\n",
    "    return np.linalg.norm(residual)\n",
    "\n",
    "r_norm_neq = calc_residual_norm(X, y, theta_neq)\n",
    "print(\"\\nThe squared residual norm:\", r_norm_neq)"
   ]
  },
  {
   "cell_type": "code",
   "execution_count": 20,
   "metadata": {
    "nbgrader": {
     "grade": false,
     "grade_id": "rand_eps",
     "locked": false,
     "schema_version": 1,
     "solution": true
    }
   },
   "outputs": [
    {
     "name": "stdout",
     "output_type": "stream",
     "text": [
      "[[6.66546779e-04 1.57439720e-05]\n",
      " [2.97632425e-04 3.46124218e-04]\n",
      " [8.02628022e-04 3.01188949e-04]]\n"
     ]
    }
   ],
   "source": [
    "def random_mat (m, n, eps):\n",
    "    return np.random.uniform(0, eps, (m, n))\n",
    "\n",
    "print(random_mat(3, 2, 1e-3))"
   ]
  },
  {
   "cell_type": "code",
   "execution_count": 22,
   "metadata": {
    "nbgrader": {
     "grade": false,
     "grade_id": "perturb_system",
     "locked": false,
     "schema_version": 1,
     "solution": true
    }
   },
   "outputs": [
    {
     "data": {
      "text/latex": [
       "$\\displaystyle \\Delta X = \\begin{bmatrix}\n",
       "  0.02448694 & 0.06740383 & 0.03852289\\\\\n",
       "  -0.05683315 & -0.03576054 & -0.0586738\\\\\n",
       "  -0.05455634 & 0.06017519 & -0.08450073\\\\\n",
       "  -0.04587465 & -0.00904299 & 0.03993666\\\\\n",
       "  0.09102592 & -0.00988923 & 0.0803663\\\\\n",
       "\\end{bmatrix}, \\quad \\Delta y = \\begin{bmatrix}\n",
       "  -0.00338804\\\\\n",
       "  0.05222098\\\\\n",
       "  -0.08281619\\\\\n",
       "  0.05601623\\\\\n",
       "  0.01837003\\\\\n",
       "\\end{bmatrix}$"
      ],
      "text/plain": [
       "<IPython.core.display.Math object>"
      ]
     },
     "metadata": {},
     "output_type": "display_data"
    }
   ],
   "source": [
    "def perturb_system(X, y, eps):\n",
    "    delta_X = np.random.uniform(-eps, eps, X.shape)\n",
    "    delta_y = np.random.uniform(-eps, eps, y.shape)\n",
    "    \n",
    "    return X + delta_X, y + delta_y\n",
    "\n",
    "\n",
    "EPSILON = 0.1\n",
    "X_perturbed, y_perturbed = perturb_system(X, y, EPSILON)\n",
    "\n",
    "Delta_X = X_perturbed - X\n",
    "Delta_y = y_perturbed - y\n",
    "display(Math(r'\\Delta X = {}, \\quad \\Delta y = {}'.format(nparray_to_bmatrix(Delta_X[:5, :]),\n",
    "                                                          nparray_to_bmatrix(Delta_y[:5]))))"
   ]
  },
  {
   "cell_type": "code",
   "execution_count": 24,
   "metadata": {},
   "outputs": [
    {
     "name": "stdout",
     "output_type": "stream",
     "text": [
      "Unperturbed solution:\n",
      "[[1.]\n",
      " [1.]\n",
      " [1.]]\n",
      "First few perturbed solutions (columns):\n",
      "[[1.00455886 1.00101007 0.98984514 0.99225538 1.01298014]\n",
      " [0.99984949 0.99800456 1.00294895 1.00030071 0.99313711]\n",
      " [0.99996111 1.00027414 0.99984266 1.00014391 1.00077193]]\n"
     ]
    }
   ],
   "source": [
    "def run_perturbation_trials(solver, X, y, eps=0.01, trials=100):\n",
    "    Thetas = np.zeros((X.shape[1], trials)) # Store all computed thetas\n",
    "    for t in range(trials):\n",
    "        X_p, y_p = perturb_system(X, y, eps)\n",
    "        Thetas[:, t:t+1] = solver(X_p, y_p)\n",
    "    return Thetas\n",
    "\n",
    "Thetas_neq = run_perturbation_trials(solve_neq, X, y)\n",
    "\n",
    "print(\"Unperturbed solution:\")\n",
    "print(theta_neq)\n",
    "\n",
    "print(\"First few perturbed solutions (columns):\")\n",
    "print(Thetas_neq[:, :5])"
   ]
  },
  {
   "cell_type": "code",
   "execution_count": 25,
   "metadata": {
    "deletable": false,
    "editable": false,
    "nbgrader": {
     "grade": false,
     "locked": true,
     "solution": false
    }
   },
   "outputs": [
    {
     "data": {
      "image/png": "[encoded data removed]",
      "text/plain": [
       "<Figure size 432x288 with 1 Axes>"
      ]
     },
     "metadata": {
      "needs_background": "light"
     },
     "output_type": "display_data"
    }
   ],
   "source": [
    "# Makes a 2-D scatter plot of given theta values.\n",
    "# If the thetas have more than two dimensions, only\n",
    "# the first and last are displayed by default.\n",
    "# (Override by setting ax and ay.)\n",
    "\n",
    "def scatter_thetas(Thetas, theta_true=None, ax=0, ay=-1, xylim=None, title=None):\n",
    "    import matplotlib.pyplot as plt\n",
    "    assert type(Thetas) is np.ndarray and Thetas.shape[0] >= 2\n",
    "    scatter(Thetas[ax, :], Thetas[ay, :])\n",
    "    xlabel('{}-coordinate'.format(ax if ax >= 0 else Thetas.shape[0]+ax))\n",
    "    ylabel('{}-coordinate'.format(ay if ay >= 0 else Thetas.shape[0]+ay))\n",
    "    if xylim is not None:\n",
    "        axis(xylim)\n",
    "    else:\n",
    "        axis('equal')\n",
    "    if theta_true is not None:\n",
    "        assert type(theta_true) is np.ndarray and theta_true.shape[0] >= 2 and theta_true.shape[1] == 1\n",
    "        scatter(theta_true[ax], theta_true[ay], marker='*', color='red', s=15**2)\n",
    "    if title is not None:\n",
    "        plt.title(title)\n",
    "        \n",
    "def calc_lims(x, buffer=0.1):\n",
    "    xmin = x.min()\n",
    "    xmax = x.max()\n",
    "    dx = (xmax - xmin) * buffer\n",
    "    return xmin-dx, xmax+dx\n",
    "        \n",
    "scatter_thetas(Thetas_neq, theta_true=theta_true, ax=0, ay=2)\n",
    "axis('square');"
   ]
  },
  {
   "cell_type": "code",
   "execution_count": 26,
   "metadata": {
    "deletable": false,
    "editable": false,
    "nbgrader": {
     "grade": false,
     "locked": true,
     "solution": false
    }
   },
   "outputs": [
    {
     "data": {
      "text/latex": [
       "$\\displaystyle \\kappa(X) \\approx 1.07\\times 10^{2}$"
      ],
      "text/plain": [
       "<IPython.core.display.Math object>"
      ]
     },
     "metadata": {},
     "output_type": "display_data"
    },
    {
     "data": {
      "text/latex": [
       "$\\displaystyle \\kappa(X^T X) \\approx 1.15\\times 10^{4}$"
      ],
      "text/plain": [
       "<IPython.core.display.Math object>"
      ]
     },
     "metadata": {},
     "output_type": "display_data"
    },
    {
     "data": {
      "text/latex": [
       "$\\displaystyle \\kappa(X)^2 \\approx 1.15\\times 10^{4}$"
      ],
      "text/plain": [
       "<IPython.core.display.Math object>"
      ]
     },
     "metadata": {},
     "output_type": "display_data"
    }
   ],
   "source": [
    "cond_X = np.linalg.cond(X)\n",
    "cond_XTX = np.linalg.cond(X.T.dot(X))\n",
    "\n",
    "assert 1. <= cond_X <= 3e3\n",
    "assert 1. <= cond_XTX <= 6e6\n",
    "\n",
    "show_cond_fancy(cond_X, 'X')\n",
    "show_cond_fancy(cond_XTX, 'X^T X')\n",
    "show_cond_fancy(cond_X**2, 'X', opt='^2')"
   ]
  },
  {
   "cell_type": "code",
   "execution_count": 27,
   "metadata": {
    "deletable": false,
    "editable": false,
    "nbgrader": {
     "grade": false,
     "locked": true,
     "solution": false
    }
   },
   "outputs": [
    {
     "name": "stdout",
     "output_type": "stream",
     "text": [
      "First few rows of data:\n",
      "True parameter estimates:\n",
      "[[1.]\n",
      " [1.]\n",
      " [1.]\n",
      " [1.]\n",
      " [1.]\n",
      " [1.]\n",
      " [1.]]\n"
     ]
    },
    {
     "data": {
      "text/latex": [
       "$\\displaystyle \\kappa(X_h) \\approx 1.72\\times 10^{12}$"
      ],
      "text/plain": [
       "<IPython.core.display.Math object>"
      ]
     },
     "metadata": {},
     "output_type": "display_data"
    },
    {
     "data": {
      "text/latex": [
       "$\\displaystyle \\kappa(X_h^T X_h) \\approx 2.90\\times 10^{23}$"
      ],
      "text/plain": [
       "<IPython.core.display.Math object>"
      ]
     },
     "metadata": {},
     "output_type": "display_data"
    }
   ],
   "source": [
    "# Generate a \"hard\" problem\n",
    "m_hard, n_hard = 100, 6\n",
    "X_hard, y_hard, theta_hard_true = gen_problem(m_hard, n_hard)\n",
    "\n",
    "df_hard = make_data_tibble(X_hard, y_hard)\n",
    "print(\"First few rows of data:\")\n",
    "df_hard.head()\n",
    "print(\"True parameter estimates:\\n{}\".format(theta_hard_true))\n",
    "\n",
    "cond_X_hard = np.linalg.cond(X_hard)\n",
    "cond_XTX_hard = np.linalg.cond(X_hard.T.dot(X_hard))\n",
    "\n",
    "name_X_hard = 'X_h'\n",
    "show_cond_fancy(cond_X_hard, name_X_hard)\n",
    "show_cond_fancy(cond_XTX_hard, '{}^T {}'.format(name_X_hard, name_X_hard))"
   ]
  },
  {
   "cell_type": "code",
   "execution_count": 28,
   "metadata": {
    "deletable": false,
    "editable": false,
    "nbgrader": {
     "grade": false,
     "locked": true,
     "solution": false
    }
   },
   "outputs": [
    {
     "name": "stdout",
     "output_type": "stream",
     "text": [
      "Residual norm for one of the trials:\n"
     ]
    },
    {
     "name": "stderr",
     "output_type": "stream",
     "text": [
      "<ipython-input-12-1462ae842354>:4: LinAlgWarning: Ill-conditioned matrix (rcond=2.82991e-25): result may not be accurate.\n",
      "  return scipy.linalg.solve(C, b)\n",
      "<ipython-input-12-1462ae842354>:4: LinAlgWarning: Ill-conditioned matrix (rcond=2.79887e-25): result may not be accurate.\n",
      "  return scipy.linalg.solve(C, b)\n",
      "<ipython-input-12-1462ae842354>:4: LinAlgWarning: Ill-conditioned matrix (rcond=2.77785e-25): result may not be accurate.\n",
      "  return scipy.linalg.solve(C, b)\n",
      "<ipython-input-12-1462ae842354>:4: LinAlgWarning: Ill-conditioned matrix (rcond=2.79765e-25): result may not be accurate.\n",
      "  return scipy.linalg.solve(C, b)\n",
      "<ipython-input-12-1462ae842354>:4: LinAlgWarning: Ill-conditioned matrix (rcond=2.7603e-25): result may not be accurate.\n",
      "  return scipy.linalg.solve(C, b)\n",
      "<ipython-input-12-1462ae842354>:4: LinAlgWarning: Ill-conditioned matrix (rcond=2.84164e-25): result may not be accurate.\n",
      "  return scipy.linalg.solve(C, b)\n",
      "<ipython-input-12-1462ae842354>:4: LinAlgWarning: Ill-conditioned matrix (rcond=2.76731e-25): result may not be accurate.\n",
      "  return scipy.linalg.solve(C, b)\n",
      "<ipython-input-12-1462ae842354>:4: LinAlgWarning: Ill-conditioned matrix (rcond=2.78407e-25): result may not be accurate.\n",
      "  return scipy.linalg.solve(C, b)\n",
      "<ipython-input-12-1462ae842354>:4: LinAlgWarning: Ill-conditioned matrix (rcond=2.78695e-25): result may not be accurate.\n",
      "  return scipy.linalg.solve(C, b)\n",
      "<ipython-input-12-1462ae842354>:4: LinAlgWarning: Ill-conditioned matrix (rcond=2.81124e-25): result may not be accurate.\n",
      "  return scipy.linalg.solve(C, b)\n",
      "<ipython-input-12-1462ae842354>:4: LinAlgWarning: Ill-conditioned matrix (rcond=2.7885e-25): result may not be accurate.\n",
      "  return scipy.linalg.solve(C, b)\n",
      "<ipython-input-12-1462ae842354>:4: LinAlgWarning: Ill-conditioned matrix (rcond=2.82229e-25): result may not be accurate.\n",
      "  return scipy.linalg.solve(C, b)\n",
      "<ipython-input-12-1462ae842354>:4: LinAlgWarning: Ill-conditioned matrix (rcond=2.80258e-25): result may not be accurate.\n",
      "  return scipy.linalg.solve(C, b)\n",
      "<ipython-input-12-1462ae842354>:4: LinAlgWarning: Ill-conditioned matrix (rcond=2.82e-25): result may not be accurate.\n",
      "  return scipy.linalg.solve(C, b)\n",
      "<ipython-input-12-1462ae842354>:4: LinAlgWarning: Ill-conditioned matrix (rcond=2.81e-25): result may not be accurate.\n",
      "  return scipy.linalg.solve(C, b)\n",
      "<ipython-input-12-1462ae842354>:4: LinAlgWarning: Ill-conditioned matrix (rcond=2.81624e-25): result may not be accurate.\n",
      "  return scipy.linalg.solve(C, b)\n",
      "<ipython-input-12-1462ae842354>:4: LinAlgWarning: Ill-conditioned matrix (rcond=2.80756e-25): result may not be accurate.\n",
      "  return scipy.linalg.solve(C, b)\n",
      "<ipython-input-12-1462ae842354>:4: LinAlgWarning: Ill-conditioned matrix (rcond=2.79618e-25): result may not be accurate.\n",
      "  return scipy.linalg.solve(C, b)\n",
      "<ipython-input-12-1462ae842354>:4: LinAlgWarning: Ill-conditioned matrix (rcond=2.7621e-25): result may not be accurate.\n",
      "  return scipy.linalg.solve(C, b)\n",
      "<ipython-input-12-1462ae842354>:4: LinAlgWarning: Ill-conditioned matrix (rcond=2.82733e-25): result may not be accurate.\n",
      "  return scipy.linalg.solve(C, b)\n",
      "<ipython-input-12-1462ae842354>:4: LinAlgWarning: Ill-conditioned matrix (rcond=2.79915e-25): result may not be accurate.\n",
      "  return scipy.linalg.solve(C, b)\n",
      "<ipython-input-12-1462ae842354>:4: LinAlgWarning: Ill-conditioned matrix (rcond=2.82332e-25): result may not be accurate.\n",
      "  return scipy.linalg.solve(C, b)\n",
      "<ipython-input-12-1462ae842354>:4: LinAlgWarning: Ill-conditioned matrix (rcond=2.80451e-25): result may not be accurate.\n",
      "  return scipy.linalg.solve(C, b)\n",
      "<ipython-input-12-1462ae842354>:4: LinAlgWarning: Ill-conditioned matrix (rcond=2.77343e-25): result may not be accurate.\n",
      "  return scipy.linalg.solve(C, b)\n",
      "<ipython-input-12-1462ae842354>:4: LinAlgWarning: Ill-conditioned matrix (rcond=2.79579e-25): result may not be accurate.\n",
      "  return scipy.linalg.solve(C, b)\n",
      "<ipython-input-12-1462ae842354>:4: LinAlgWarning: Ill-conditioned matrix (rcond=2.79537e-25): result may not be accurate.\n",
      "  return scipy.linalg.solve(C, b)\n",
      "<ipython-input-12-1462ae842354>:4: LinAlgWarning: Ill-conditioned matrix (rcond=2.78652e-25): result may not be accurate.\n",
      "  return scipy.linalg.solve(C, b)\n",
      "<ipython-input-12-1462ae842354>:4: LinAlgWarning: Ill-conditioned matrix (rcond=2.77363e-25): result may not be accurate.\n",
      "  return scipy.linalg.solve(C, b)\n",
      "<ipython-input-12-1462ae842354>:4: LinAlgWarning: Ill-conditioned matrix (rcond=2.81009e-25): result may not be accurate.\n",
      "  return scipy.linalg.solve(C, b)\n",
      "<ipython-input-12-1462ae842354>:4: LinAlgWarning: Ill-conditioned matrix (rcond=2.83783e-25): result may not be accurate.\n",
      "  return scipy.linalg.solve(C, b)\n",
      "<ipython-input-12-1462ae842354>:4: LinAlgWarning: Ill-conditioned matrix (rcond=2.79959e-25): result may not be accurate.\n",
      "  return scipy.linalg.solve(C, b)\n",
      "<ipython-input-12-1462ae842354>:4: LinAlgWarning: Ill-conditioned matrix (rcond=2.82422e-25): result may not be accurate.\n",
      "  return scipy.linalg.solve(C, b)\n",
      "<ipython-input-12-1462ae842354>:4: LinAlgWarning: Ill-conditioned matrix (rcond=2.80513e-25): result may not be accurate.\n",
      "  return scipy.linalg.solve(C, b)\n",
      "<ipython-input-12-1462ae842354>:4: LinAlgWarning: Ill-conditioned matrix (rcond=2.79649e-25): result may not be accurate.\n",
      "  return scipy.linalg.solve(C, b)\n",
      "<ipython-input-12-1462ae842354>:4: LinAlgWarning: Ill-conditioned matrix (rcond=2.82192e-25): result may not be accurate.\n",
      "  return scipy.linalg.solve(C, b)\n",
      "<ipython-input-12-1462ae842354>:4: LinAlgWarning: Ill-conditioned matrix (rcond=2.81888e-25): result may not be accurate.\n",
      "  return scipy.linalg.solve(C, b)\n",
      "<ipython-input-12-1462ae842354>:4: LinAlgWarning: Ill-conditioned matrix (rcond=2.7932e-25): result may not be accurate.\n",
      "  return scipy.linalg.solve(C, b)\n",
      "<ipython-input-12-1462ae842354>:4: LinAlgWarning: Ill-conditioned matrix (rcond=2.81052e-25): result may not be accurate.\n",
      "  return scipy.linalg.solve(C, b)\n",
      "<ipython-input-12-1462ae842354>:4: LinAlgWarning: Ill-conditioned matrix (rcond=2.78871e-25): result may not be accurate.\n",
      "  return scipy.linalg.solve(C, b)\n",
      "<ipython-input-12-1462ae842354>:4: LinAlgWarning: Ill-conditioned matrix (rcond=2.78831e-25): result may not be accurate.\n",
      "  return scipy.linalg.solve(C, b)\n",
      "<ipython-input-12-1462ae842354>:4: LinAlgWarning: Ill-conditioned matrix (rcond=2.76684e-25): result may not be accurate.\n",
      "  return scipy.linalg.solve(C, b)\n",
      "<ipython-input-12-1462ae842354>:4: LinAlgWarning: Ill-conditioned matrix (rcond=2.81219e-25): result may not be accurate.\n",
      "  return scipy.linalg.solve(C, b)\n",
      "<ipython-input-12-1462ae842354>:4: LinAlgWarning: Ill-conditioned matrix (rcond=2.78801e-25): result may not be accurate.\n",
      "  return scipy.linalg.solve(C, b)\n",
      "<ipython-input-12-1462ae842354>:4: LinAlgWarning: Ill-conditioned matrix (rcond=2.80365e-25): result may not be accurate.\n",
      "  return scipy.linalg.solve(C, b)\n",
      "<ipython-input-12-1462ae842354>:4: LinAlgWarning: Ill-conditioned matrix (rcond=2.79688e-25): result may not be accurate.\n",
      "  return scipy.linalg.solve(C, b)\n",
      "<ipython-input-12-1462ae842354>:4: LinAlgWarning: Ill-conditioned matrix (rcond=2.81776e-25): result may not be accurate.\n",
      "  return scipy.linalg.solve(C, b)\n",
      "<ipython-input-12-1462ae842354>:4: LinAlgWarning: Ill-conditioned matrix (rcond=2.79898e-25): result may not be accurate.\n",
      "  return scipy.linalg.solve(C, b)\n",
      "<ipython-input-12-1462ae842354>:4: LinAlgWarning: Ill-conditioned matrix (rcond=2.79362e-25): result may not be accurate.\n",
      "  return scipy.linalg.solve(C, b)\n",
      "<ipython-input-12-1462ae842354>:4: LinAlgWarning: Ill-conditioned matrix (rcond=2.79323e-25): result may not be accurate.\n",
      "  return scipy.linalg.solve(C, b)\n",
      "<ipython-input-12-1462ae842354>:4: LinAlgWarning: Ill-conditioned matrix (rcond=2.81232e-25): result may not be accurate.\n",
      "  return scipy.linalg.solve(C, b)\n",
      "<ipython-input-12-1462ae842354>:4: LinAlgWarning: Ill-conditioned matrix (rcond=2.80612e-25): result may not be accurate.\n",
      "  return scipy.linalg.solve(C, b)\n",
      "<ipython-input-12-1462ae842354>:4: LinAlgWarning: Ill-conditioned matrix (rcond=2.77499e-25): result may not be accurate.\n",
      "  return scipy.linalg.solve(C, b)\n",
      "<ipython-input-12-1462ae842354>:4: LinAlgWarning: Ill-conditioned matrix (rcond=2.82431e-25): result may not be accurate.\n",
      "  return scipy.linalg.solve(C, b)\n",
      "<ipython-input-12-1462ae842354>:4: LinAlgWarning: Ill-conditioned matrix (rcond=2.76958e-25): result may not be accurate.\n",
      "  return scipy.linalg.solve(C, b)\n",
      "<ipython-input-12-1462ae842354>:4: LinAlgWarning: Ill-conditioned matrix (rcond=2.76063e-25): result may not be accurate.\n",
      "  return scipy.linalg.solve(C, b)\n",
      "<ipython-input-12-1462ae842354>:4: LinAlgWarning: Ill-conditioned matrix (rcond=2.85115e-25): result may not be accurate.\n",
      "  return scipy.linalg.solve(C, b)\n",
      "<ipython-input-12-1462ae842354>:4: LinAlgWarning: Ill-conditioned matrix (rcond=2.82836e-25): result may not be accurate.\n",
      "  return scipy.linalg.solve(C, b)\n",
      "<ipython-input-12-1462ae842354>:4: LinAlgWarning: Ill-conditioned matrix (rcond=2.83502e-25): result may not be accurate.\n",
      "  return scipy.linalg.solve(C, b)\n",
      "<ipython-input-12-1462ae842354>:4: LinAlgWarning: Ill-conditioned matrix (rcond=2.81428e-25): result may not be accurate.\n",
      "  return scipy.linalg.solve(C, b)\n",
      "<ipython-input-12-1462ae842354>:4: LinAlgWarning: Ill-conditioned matrix (rcond=2.81365e-25): result may not be accurate.\n",
      "  return scipy.linalg.solve(C, b)\n",
      "<ipython-input-12-1462ae842354>:4: LinAlgWarning: Ill-conditioned matrix (rcond=2.81706e-25): result may not be accurate.\n",
      "  return scipy.linalg.solve(C, b)\n",
      "<ipython-input-12-1462ae842354>:4: LinAlgWarning: Ill-conditioned matrix (rcond=2.79262e-25): result may not be accurate.\n",
      "  return scipy.linalg.solve(C, b)\n",
      "<ipython-input-12-1462ae842354>:4: LinAlgWarning: Ill-conditioned matrix (rcond=2.79881e-25): result may not be accurate.\n",
      "  return scipy.linalg.solve(C, b)\n",
      "<ipython-input-12-1462ae842354>:4: LinAlgWarning: Ill-conditioned matrix (rcond=2.82421e-25): result may not be accurate.\n",
      "  return scipy.linalg.solve(C, b)\n",
      "<ipython-input-12-1462ae842354>:4: LinAlgWarning: Ill-conditioned matrix (rcond=2.79998e-25): result may not be accurate.\n",
      "  return scipy.linalg.solve(C, b)\n",
      "<ipython-input-12-1462ae842354>:4: LinAlgWarning: Ill-conditioned matrix (rcond=2.80385e-25): result may not be accurate.\n",
      "  return scipy.linalg.solve(C, b)\n",
      "<ipython-input-12-1462ae842354>:4: LinAlgWarning: Ill-conditioned matrix (rcond=2.79706e-25): result may not be accurate.\n",
      "  return scipy.linalg.solve(C, b)\n",
      "<ipython-input-12-1462ae842354>:4: LinAlgWarning: Ill-conditioned matrix (rcond=2.8011e-25): result may not be accurate.\n",
      "  return scipy.linalg.solve(C, b)\n",
      "<ipython-input-12-1462ae842354>:4: LinAlgWarning: Ill-conditioned matrix (rcond=2.82447e-25): result may not be accurate.\n",
      "  return scipy.linalg.solve(C, b)\n",
      "<ipython-input-12-1462ae842354>:4: LinAlgWarning: Ill-conditioned matrix (rcond=2.78815e-25): result may not be accurate.\n",
      "  return scipy.linalg.solve(C, b)\n",
      "<ipython-input-12-1462ae842354>:4: LinAlgWarning: Ill-conditioned matrix (rcond=2.81242e-25): result may not be accurate.\n",
      "  return scipy.linalg.solve(C, b)\n",
      "<ipython-input-12-1462ae842354>:4: LinAlgWarning: Ill-conditioned matrix (rcond=2.78347e-25): result may not be accurate.\n",
      "  return scipy.linalg.solve(C, b)\n",
      "<ipython-input-12-1462ae842354>:4: LinAlgWarning: Ill-conditioned matrix (rcond=2.77787e-25): result may not be accurate.\n",
      "  return scipy.linalg.solve(C, b)\n",
      "<ipython-input-12-1462ae842354>:4: LinAlgWarning: Ill-conditioned matrix (rcond=2.81495e-25): result may not be accurate.\n",
      "  return scipy.linalg.solve(C, b)\n",
      "<ipython-input-12-1462ae842354>:4: LinAlgWarning: Ill-conditioned matrix (rcond=2.78964e-25): result may not be accurate.\n",
      "  return scipy.linalg.solve(C, b)\n",
      "<ipython-input-12-1462ae842354>:4: LinAlgWarning: Ill-conditioned matrix (rcond=2.80393e-25): result may not be accurate.\n",
      "  return scipy.linalg.solve(C, b)\n",
      "<ipython-input-12-1462ae842354>:4: LinAlgWarning: Ill-conditioned matrix (rcond=2.77306e-25): result may not be accurate.\n",
      "  return scipy.linalg.solve(C, b)\n",
      "<ipython-input-12-1462ae842354>:4: LinAlgWarning: Ill-conditioned matrix (rcond=2.80564e-25): result may not be accurate.\n",
      "  return scipy.linalg.solve(C, b)\n",
      "<ipython-input-12-1462ae842354>:4: LinAlgWarning: Ill-conditioned matrix (rcond=2.80023e-25): result may not be accurate.\n",
      "  return scipy.linalg.solve(C, b)\n",
      "<ipython-input-12-1462ae842354>:4: LinAlgWarning: Ill-conditioned matrix (rcond=2.80977e-25): result may not be accurate.\n",
      "  return scipy.linalg.solve(C, b)\n",
      "<ipython-input-12-1462ae842354>:4: LinAlgWarning: Ill-conditioned matrix (rcond=2.78471e-25): result may not be accurate.\n",
      "  return scipy.linalg.solve(C, b)\n",
      "<ipython-input-12-1462ae842354>:4: LinAlgWarning: Ill-conditioned matrix (rcond=2.83579e-25): result may not be accurate.\n",
      "  return scipy.linalg.solve(C, b)\n",
      "<ipython-input-12-1462ae842354>:4: LinAlgWarning: Ill-conditioned matrix (rcond=2.81859e-25): result may not be accurate.\n",
      "  return scipy.linalg.solve(C, b)\n",
      "<ipython-input-12-1462ae842354>:4: LinAlgWarning: Ill-conditioned matrix (rcond=2.7897e-25): result may not be accurate.\n",
      "  return scipy.linalg.solve(C, b)\n",
      "<ipython-input-12-1462ae842354>:4: LinAlgWarning: Ill-conditioned matrix (rcond=2.80209e-25): result may not be accurate.\n",
      "  return scipy.linalg.solve(C, b)\n",
      "<ipython-input-12-1462ae842354>:4: LinAlgWarning: Ill-conditioned matrix (rcond=2.7986e-25): result may not be accurate.\n",
      "  return scipy.linalg.solve(C, b)\n",
      "<ipython-input-12-1462ae842354>:4: LinAlgWarning: Ill-conditioned matrix (rcond=2.80306e-25): result may not be accurate.\n",
      "  return scipy.linalg.solve(C, b)\n",
      "<ipython-input-12-1462ae842354>:4: LinAlgWarning: Ill-conditioned matrix (rcond=2.82355e-25): result may not be accurate.\n",
      "  return scipy.linalg.solve(C, b)\n",
      "<ipython-input-12-1462ae842354>:4: LinAlgWarning: Ill-conditioned matrix (rcond=2.7626e-25): result may not be accurate.\n",
      "  return scipy.linalg.solve(C, b)\n",
      "<ipython-input-12-1462ae842354>:4: LinAlgWarning: Ill-conditioned matrix (rcond=2.77695e-25): result may not be accurate.\n",
      "  return scipy.linalg.solve(C, b)\n",
      "<ipython-input-12-1462ae842354>:4: LinAlgWarning: Ill-conditioned matrix (rcond=2.83437e-25): result may not be accurate.\n",
      "  return scipy.linalg.solve(C, b)\n",
      "<ipython-input-12-1462ae842354>:4: LinAlgWarning: Ill-conditioned matrix (rcond=2.82713e-25): result may not be accurate.\n",
      "  return scipy.linalg.solve(C, b)\n",
      "<ipython-input-12-1462ae842354>:4: LinAlgWarning: Ill-conditioned matrix (rcond=2.78574e-25): result may not be accurate.\n",
      "  return scipy.linalg.solve(C, b)\n",
      "<ipython-input-12-1462ae842354>:4: LinAlgWarning: Ill-conditioned matrix (rcond=2.81674e-25): result may not be accurate.\n",
      "  return scipy.linalg.solve(C, b)\n",
      "<ipython-input-12-1462ae842354>:4: LinAlgWarning: Ill-conditioned matrix (rcond=2.80139e-25): result may not be accurate.\n",
      "  return scipy.linalg.solve(C, b)\n",
      "<ipython-input-12-1462ae842354>:4: LinAlgWarning: Ill-conditioned matrix (rcond=2.77946e-25): result may not be accurate.\n",
      "  return scipy.linalg.solve(C, b)\n",
      "<ipython-input-12-1462ae842354>:4: LinAlgWarning: Ill-conditioned matrix (rcond=2.79686e-25): result may not be accurate.\n",
      "  return scipy.linalg.solve(C, b)\n",
      "<ipython-input-12-1462ae842354>:4: LinAlgWarning: Ill-conditioned matrix (rcond=2.80476e-25): result may not be accurate.\n",
      "  return scipy.linalg.solve(C, b)\n",
      "<ipython-input-12-1462ae842354>:4: LinAlgWarning: Ill-conditioned matrix (rcond=2.79206e-25): result may not be accurate.\n",
      "  return scipy.linalg.solve(C, b)\n",
      "<ipython-input-12-1462ae842354>:4: LinAlgWarning: Ill-conditioned matrix (rcond=2.76074e-25): result may not be accurate.\n",
      "  return scipy.linalg.solve(C, b)\n"
     ]
    },
    {
     "data": {
      "text/plain": [
       "212070531298449.12"
      ]
     },
     "execution_count": 28,
     "metadata": {},
     "output_type": "execute_result"
    },
    {
     "data": {
      "image/png": "[encoded data removed]",
      "text/plain": [
       "<Figure size 432x288 with 1 Axes>"
      ]
     },
     "metadata": {
      "needs_background": "light"
     },
     "output_type": "display_data"
    }
   ],
   "source": [
    "Thetas_hard_neq = run_perturbation_trials(solve_neq, X_hard, y_hard)\n",
    "scatter_thetas(Thetas_hard_neq, theta_true=theta_hard_true, ax=0, ay=2)\n",
    "\n",
    "print(\"Residual norm for one of the trials:\")\n",
    "theta_hard_neq_example = np.random.randint(Thetas_hard_neq.shape[1])\n",
    "calc_residual_norm(X_hard, y_hard, theta_hard_neq_example)"
   ]
  },
  {
   "cell_type": "code",
   "execution_count": 29,
   "metadata": {},
   "outputs": [
    {
     "data": {
      "text/plain": [
       "80"
      ]
     },
     "execution_count": 29,
     "metadata": {},
     "output_type": "execute_result"
    }
   ],
   "source": [
    "theta_hard_neq_example"
   ]
  },
  {
   "cell_type": "code",
   "execution_count": 30,
   "metadata": {
    "nbgrader": {
     "grade": false,
     "grade_id": "qr",
     "locked": false,
     "schema_version": 1,
     "solution": true
    }
   },
   "outputs": [
    {
     "name": "stdout",
     "output_type": "stream",
     "text": [
      "[[ 1.  0.  0.]\n",
      " [ 1.  1.  1.]\n",
      " [ 1.  2.  4.]\n",
      " [ 1.  3.  9.]\n",
      " [ 1.  4. 16.]] \n",
      " ...\n",
      "\n",
      "Q: (10, 3) \n",
      "\n",
      "R: (3, 3) ==\n",
      "[[-0.31622777 -0.49543369  0.52223297]\n",
      " [-0.31622777 -0.38533732  0.17407766]\n",
      " [-0.31622777 -0.27524094 -0.08703883]\n",
      " [-0.31622777 -0.16514456 -0.26111648]\n",
      " [-0.31622777 -0.05504819 -0.34815531]\n",
      " [-0.31622777  0.05504819 -0.34815531]\n",
      " [-0.31622777  0.16514456 -0.26111648]\n",
      " [-0.31622777  0.27524094 -0.08703883]\n",
      " [-0.31622777  0.38533732  0.17407766]\n",
      " [-0.31622777  0.49543369  0.52223297]]\n"
     ]
    }
   ],
   "source": [
    "print(X[:5], \"\\n ...\\n\")\n",
    "\n",
    "Q, R = np.linalg.qr(X)\n",
    "\n",
    "# Print the dimensions of your result\n",
    "print(\"Q:\", Q.shape, \"\\n\")\n",
    "print(\"R:\", R.shape, \"==\")\n",
    "print(Q)"
   ]
  },
  {
   "cell_type": "code",
   "execution_count": 32,
   "metadata": {},
   "outputs": [
    {
     "data": {
      "text/latex": [
       "$\\displaystyle \\kappa(X) \\approx 1.07\\times 10^{2}$"
      ],
      "text/plain": [
       "<IPython.core.display.Math object>"
      ]
     },
     "metadata": {},
     "output_type": "display_data"
    },
    {
     "data": {
      "text/latex": [
       "$\\displaystyle \\kappa(X^T X) \\approx 1.15\\times 10^{4}$"
      ],
      "text/plain": [
       "<IPython.core.display.Math object>"
      ]
     },
     "metadata": {},
     "output_type": "display_data"
    },
    {
     "data": {
      "text/latex": [
       "$\\displaystyle \\kappa(R) \\approx 1.07\\times 10^{2}$"
      ],
      "text/plain": [
       "<IPython.core.display.Math object>"
      ]
     },
     "metadata": {},
     "output_type": "display_data"
    }
   ],
   "source": [
    "cond_R = np.linalg.cond(R)\n",
    "\n",
    "show_cond_fancy(cond_X, 'X')\n",
    "show_cond_fancy(cond_XTX, 'X^T X')\n",
    "show_cond_fancy(cond_R, 'R')"
   ]
  },
  {
   "cell_type": "code",
   "execution_count": 34,
   "metadata": {
    "nbgrader": {
     "grade": false,
     "grade_id": "solve_qr",
     "locked": false,
     "schema_version": 1,
     "solution": true
    }
   },
   "outputs": [
    {
     "name": "stdout",
     "output_type": "stream",
     "text": [
      "Comparing your QR solution to the true solution:\n"
     ]
    },
    {
     "data": {
      "text/html": [
       "<div>\n",
       "<style scoped>\n",
       "    .dataframe tbody tr th:only-of-type {\n",
       "        vertical-align: middle;\n",
       "    }\n",
       "\n",
       "    .dataframe tbody tr th {\n",
       "        vertical-align: top;\n",
       "    }\n",
       "\n",
       "    .dataframe thead th {\n",
       "        text-align: right;\n",
       "    }\n",
       "</style>\n",
       "<table border=\"1\" class=\"dataframe\">\n",
       "  <thead>\n",
       "    <tr style=\"text-align: right;\">\n",
       "      <th></th>\n",
       "      <th>theta_qr</th>\n",
       "      <th>theta_true</th>\n",
       "      <th>error</th>\n",
       "    </tr>\n",
       "  </thead>\n",
       "  <tbody>\n",
       "    <tr>\n",
       "      <th>0</th>\n",
       "      <td>1.0</td>\n",
       "      <td>1.0</td>\n",
       "      <td>-7.216450e-15</td>\n",
       "    </tr>\n",
       "    <tr>\n",
       "      <th>1</th>\n",
       "      <td>1.0</td>\n",
       "      <td>1.0</td>\n",
       "      <td>5.107026e-15</td>\n",
       "    </tr>\n",
       "    <tr>\n",
       "      <th>2</th>\n",
       "      <td>1.0</td>\n",
       "      <td>1.0</td>\n",
       "      <td>-7.771561e-16</td>\n",
       "    </tr>\n",
       "  </tbody>\n",
       "</table>\n",
       "</div>"
      ],
      "text/plain": [
       "   theta_qr  theta_true         error\n",
       "0       1.0         1.0 -7.216450e-15\n",
       "1       1.0         1.0  5.107026e-15\n",
       "2       1.0         1.0 -7.771561e-16"
      ]
     },
     "metadata": {},
     "output_type": "display_data"
    },
    {
     "name": "stdout",
     "output_type": "stream",
     "text": [
      "Residual norm:\n"
     ]
    },
    {
     "data": {
      "text/plain": [
       "3.428720300574628e-14"
      ]
     },
     "execution_count": 34,
     "metadata": {},
     "output_type": "execute_result"
    }
   ],
   "source": [
    "import scipy.linalg\n",
    "\n",
    "def solve_qr(X, y):\n",
    "    Q, R = np.linalg.qr(X)\n",
    "    z = Q.T @ y\n",
    "    theta = scipy.linalg.solve_triangular(R, z, lower=False)\n",
    "    return theta\n",
    "    \n",
    "theta_qr = solve_qr(X, y)\n",
    "\n",
    "print(\"Comparing your QR solution to the true solution:\")\n",
    "show_2vecs_tibble(theta_qr, theta_true, xname='theta_qr', yname='theta_true', error=True)\n",
    "\n",
    "print(\"Residual norm:\")\n",
    "calc_residual_norm(X, y, theta_qr)"
   ]
  },
  {
   "cell_type": "code",
   "execution_count": 36,
   "metadata": {
    "deletable": false,
    "editable": false,
    "nbgrader": {
     "grade": false,
     "grade_id": "cell-9e64a01b45964c31",
     "locked": true,
     "schema_version": 1,
     "solution": false
    }
   },
   "outputs": [
    {
     "name": "stdout",
     "output_type": "stream",
     "text": [
      "Sample estimate for one of the trials:\n",
      "- Gramian-based method: theta^T =\n",
      "\t[1.19633263 0.92660112 1.00684227 0.99974036 1.00000468 0.99999996\n",
      " 1.        ]\n",
      "- QR-based method: theta^T =\n",
      "\t[1.00498269 0.99890713 1.00003479 1.00000045 0.99999996 1.\n",
      " 1.        ]\n"
     ]
    },
    {
     "data": {
      "image/png": "[encoded data removed]",
      "text/plain": [
       "<Figure size 864x288 with 2 Axes>"
      ]
     },
     "metadata": {
      "needs_background": "light"
     },
     "output_type": "display_data"
    }
   ],
   "source": [
    "Thetas_hard_qr = run_perturbation_trials(solve_qr, X_hard, y_hard)\n",
    "\n",
    "# Plot side-by-side against normal equations method\n",
    "def compare_scatter_thetas(T0, title0, T1, title1, ax=0, ay=1, **kwargs):\n",
    "    xmin, xmax = calc_lims(np.array([Thetas_hard_neq[ax, :], Thetas_hard_qr[ax, :]]))\n",
    "    ymin, ymax = calc_lims(np.array([Thetas_hard_neq[ay, :], Thetas_hard_qr[ay, :]]))\n",
    "    xylim = [xmin, xmax, ymin, ymax]\n",
    "    figure(figsize=(12, 4))\n",
    "    subplot(1, 2, 1)\n",
    "    scatter_thetas(T0, title=title0, ax=ax, ay=ay, xylim=xylim, **kwargs)\n",
    "    subplot(1, 2 ,2)\n",
    "    scatter_thetas(T1, title=title1, ax=ax, ay=ay, xylim=xylim, **kwargs)\n",
    "    \n",
    "compare_scatter_thetas(Thetas_hard_neq, 'Normal equations',\n",
    "                       Thetas_hard_qr, 'QR',\n",
    "                       ax=0, ay=-1, theta_true=theta_hard_true)\n",
    "\n",
    "print(\"Sample estimate for one of the trials:\")\n",
    "theta_hard_neq_example = Thetas_hard_neq[:, np.random.randint(Thetas_hard_neq.shape[1])]\n",
    "theta_hard_qr_example = Thetas_hard_qr[:, np.random.randint(Thetas_hard_qr.shape[1])]\n",
    "msg = \"- {}-based method: theta^T =\\n\\t{}\"\n",
    "print(msg.format(\"Gramian\", theta_hard_neq_example.T))\n",
    "print(msg.format(\"QR\", theta_hard_qr_example.T))"
   ]
  },
  {
   "cell_type": "code",
   "execution_count": 37,
   "metadata": {
    "deletable": false,
    "editable": false,
    "nbgrader": {
     "grade": false,
     "locked": true,
     "solution": false
    }
   },
   "outputs": [
    {
     "name": "stdout",
     "output_type": "stream",
     "text": [
      "=== Performance of the normal equations-based algorithm ===\n"
     ]
    },
    {
     "name": "stderr",
     "output_type": "stream",
     "text": [
      "<ipython-input-12-1462ae842354>:4: LinAlgWarning: Ill-conditioned matrix (rcond=2.8027e-25): result may not be accurate.\n",
      "  return scipy.linalg.solve(C, b)\n"
     ]
    },
    {
     "name": "stdout",
     "output_type": "stream",
     "text": [
      "Timing result: (5 trials) x (10000 runs) in 3.5985530919997473 secs\n",
      "==> 7.197106183999494e-05 secs per run\n"
     ]
    }
   ],
   "source": [
    "print(\"=== Performance of the normal equations-based algorithm ===\")\n",
    "benchit(\"solve_neq(X_hard, y_hard)\", scope=globals());"
   ]
  },
  {
   "cell_type": "code",
   "execution_count": 38,
   "metadata": {
    "deletable": false,
    "editable": false,
    "nbgrader": {
     "grade": false,
     "grade_id": "cell-e40dba0f6f86d187",
     "locked": true,
     "schema_version": 1,
     "solution": false
    }
   },
   "outputs": [
    {
     "name": "stdout",
     "output_type": "stream",
     "text": [
      "\n",
      "=== Performance of the QR-based algorithm ===\n",
      "Timing result: (5 trials) x (10000 runs) in 4.827964314999917 secs\n",
      "==> 9.655928629999835e-05 secs per run\n"
     ]
    }
   ],
   "source": [
    "print(\"\\n=== Performance of the QR-based algorithm ===\")\n",
    "benchit(\"solve_qr(X_hard, y_hard)\", scope=globals());"
   ]
  }
 ],
 "metadata": {
  "anaconda-cloud": [],
  "celltoolbar": "Create Assignment",
  "kernelspec": {
   "display_name": "Python 3.8",
   "language": "python",
   "name": "python38"
  },
  "language_info": {
   "codemirror_mode": {
    "name": "ipython",
    "version": 3
   },
   "file_extension": ".py",
   "mimetype": "text/x-python",
   "name": "python",
   "nbconvert_exporter": "python",
   "pygments_lexer": "ipython3",
   "version": "3.8.7"
  }
 },
 "nbformat": 4,
 "nbformat_minor": 1
}
